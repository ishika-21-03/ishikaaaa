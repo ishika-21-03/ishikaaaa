{
 "cells": [
  {
   "cell_type": "code",
   "execution_count": 2,
   "id": "1e2bd622-aeff-4245-884a-30160274de4b",
   "metadata": {},
   "outputs": [
    {
     "name": "stdout",
     "output_type": "stream",
     "text": [
      "Requirement already satisfied: opencv_python in c:\\users\\ishik\\documents\\custom office templates\\lib\\site-packages (4.11.0.86)\n",
      "Requirement already satisfied: numpy>=1.21.2 in c:\\users\\ishik\\documents\\custom office templates\\lib\\site-packages (from opencv_python) (1.26.4)\n"
     ]
    }
   ],
   "source": [
    "!pip install opencv_python"
   ]
  },
  {
   "cell_type": "code",
   "execution_count": 3,
   "id": "f707013c-fee8-4aca-a572-df6e618bd101",
   "metadata": {},
   "outputs": [],
   "source": [
    "import cv2\n",
    "import numpy as np\n",
    "import matplotlib.pyplot as plt"
   ]
  },
  {
   "cell_type": "code",
   "execution_count": 4,
   "id": "43afd15f-0b70-47f5-91b6-bd4219cb37ed",
   "metadata": {},
   "outputs": [],
   "source": [
    "img = cv2.imread(r\"bootcamp pic.png\")"
   ]
  },
  {
   "cell_type": "code",
   "execution_count": 5,
   "id": "e6134f38-3501-4551-99c6-33c1568090cd",
   "metadata": {},
   "outputs": [
    {
     "name": "stdout",
     "output_type": "stream",
     "text": [
      "<class 'numpy.ndarray'>\n"
     ]
    }
   ],
   "source": [
    "print(type(img))"
   ]
  },
  {
   "cell_type": "code",
   "execution_count": 9,
   "id": "041d2a5a-1d75-4e19-b7fb-7d69958d01e2",
   "metadata": {},
   "outputs": [],
   "source": [
    "cv2.imshow(\"practical assignment\" ,img)\n",
    "cv2.waitKey(0)\n",
    "cv2.destroyAllWindows()"
   ]
  },
  {
   "cell_type": "code",
   "execution_count": 7,
   "id": "21393fb9-327d-437d-8775-52687865f6ec",
   "metadata": {},
   "outputs": [
    {
     "name": "stdout",
     "output_type": "stream",
     "text": [
      "(1080, 1080, 3)\n"
     ]
    }
   ],
   "source": [
    "print(img.shape)"
   ]
  },
  {
   "cell_type": "code",
   "execution_count": 10,
   "id": "d34c93b6-6cba-499d-ae3f-ccff2c5018c6",
   "metadata": {},
   "outputs": [],
   "source": [
    "img_resize = cv2.resize(img,(400,256))"
   ]
  },
  {
   "cell_type": "code",
   "execution_count": 11,
   "id": "1a96fcc2-638c-4aa4-8257-ea684f556aa8",
   "metadata": {},
   "outputs": [],
   "source": [
    "cv2.imshow(\"practical assignment\" ,img_resize)\n",
    "cv2.waitKey(0)\n",
    "cv2.destroyAllWindows()"
   ]
  },
  {
   "cell_type": "code",
   "execution_count": 12,
   "id": "da92840e-884d-451e-9f2f-670e54f82dcd",
   "metadata": {},
   "outputs": [
    {
     "name": "stdout",
     "output_type": "stream",
     "text": [
      "(256, 400, 3)\n"
     ]
    }
   ],
   "source": [
    "print(img_resize.shape)"
   ]
  },
  {
   "cell_type": "code",
   "execution_count": 13,
   "id": "f5a86346-ac38-4d64-b664-1eb54ae56585",
   "metadata": {},
   "outputs": [],
   "source": [
    "img_flip = cv2.flip(img,1)"
   ]
  },
  {
   "cell_type": "code",
   "execution_count": 14,
   "id": "5db27990-2a9d-4265-ad64-ec3d47a40909",
   "metadata": {},
   "outputs": [],
   "source": [
    "cv2.imshow(\"flipped image\" ,img_flip)\n",
    "cv2.waitKey(0)\n",
    "cv2.destroyAllWindows()"
   ]
  },
  {
   "cell_type": "code",
   "execution_count": 15,
   "id": "3e44483d-c167-4d50-8330-797b96282cfc",
   "metadata": {},
   "outputs": [],
   "source": [
    "img_flip = cv2.flip(img,0)"
   ]
  },
  {
   "cell_type": "code",
   "execution_count": 16,
   "id": "536d7ce4-d2b6-4d73-ae59-2035418c20a8",
   "metadata": {},
   "outputs": [],
   "source": [
    "cv2.imshow(\"flipped image\" ,img_flip)\n",
    "cv2.waitKey(0)\n",
    "cv2.destroyAllWindows()"
   ]
  },
  {
   "cell_type": "code",
   "execution_count": null,
   "id": "f4ebc3d5-aaad-4b96-96b9-3d98e3f1b8cf",
   "metadata": {},
   "outputs": [],
   "source": []
  }
 ],
 "metadata": {
  "kernelspec": {
   "display_name": "Python 3 (ipykernel)",
   "language": "python",
   "name": "python3"
  },
  "language_info": {
   "codemirror_mode": {
    "name": "ipython",
    "version": 3
   },
   "file_extension": ".py",
   "mimetype": "text/x-python",
   "name": "python",
   "nbconvert_exporter": "python",
   "pygments_lexer": "ipython3",
   "version": "3.12.7"
  }
 },
 "nbformat": 4,
 "nbformat_minor": 5
}
